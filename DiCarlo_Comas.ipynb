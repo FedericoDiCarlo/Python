{
  "nbformat": 4,
  "nbformat_minor": 0,
  "metadata": {
    "colab": {
      "name": "DiCarlo-Comas.ipynb",
      "provenance": [],
      "authorship_tag": "ABX9TyO/YrFZOwzZvJWzV3l3w4Lv",
      "include_colab_link": true
    },
    "kernelspec": {
      "name": "python3",
      "display_name": "Python 3"
    },
    "language_info": {
      "name": "python"
    }
  },
  "cells": [
    {
      "cell_type": "markdown",
      "metadata": {
        "id": "view-in-github",
        "colab_type": "text"
      },
      "source": [
        "<a href=\"https://colab.research.google.com/github/FedericoDiCarlo/Python/blob/main/DiCarlo_Comas.ipynb\" target=\"_parent\"><img src=\"https://colab.research.google.com/assets/colab-badge.svg\" alt=\"Open In Colab\"/></a>"
      ]
    },
    {
      "cell_type": "markdown",
      "metadata": {
        "id": "cYX3kphPP-Wx"
      },
      "source": [
        "Primero, debemos improtar los datos que vamos a utilizar"
      ]
    },
    {
      "cell_type": "code",
      "metadata": {
        "colab": {
          "resources": {
            "http://localhost:8080/nbextensions/google.colab/files.js": {
              "data": "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",
              "ok": true,
              "headers": [
                [
                  "content-type",
                  "application/javascript"
                ]
              ],
              "status": 200,
              "status_text": ""
            }
          },
          "base_uri": "https://localhost:8080/",
          "height": 73
        },
        "id": "5Fahn5-EKgLK",
        "outputId": "90cc8836-229f-4ed2-9587-23d726133018"
      },
      "source": [
        "from google.colab import files\n",
        "uploaded = files.upload()"
      ],
      "execution_count": 21,
      "outputs": [
        {
          "output_type": "display_data",
          "data": {
            "text/html": [
              "\n",
              "     <input type=\"file\" id=\"files-1e9400d5-9ac8-4d97-8a5e-c790d3cb04af\" name=\"files[]\" multiple disabled\n",
              "        style=\"border:none\" />\n",
              "     <output id=\"result-1e9400d5-9ac8-4d97-8a5e-c790d3cb04af\">\n",
              "      Upload widget is only available when the cell has been executed in the\n",
              "      current browser session. Please rerun this cell to enable.\n",
              "      </output>\n",
              "      <script src=\"/nbextensions/google.colab/files.js\"></script> "
            ],
            "text/plain": [
              "<IPython.core.display.HTML object>"
            ]
          },
          "metadata": {
            "tags": []
          }
        },
        {
          "output_type": "stream",
          "text": [
            "Saving base_tarea.xls to base_tarea (1).xls\n"
          ],
          "name": "stdout"
        }
      ]
    },
    {
      "cell_type": "code",
      "metadata": {
        "id": "lNIooeVwLadT"
      },
      "source": [
        "import pandas as pd\n",
        "import io\n",
        "df = pd.read_excel('base_tarea.xls')"
      ],
      "execution_count": 22,
      "outputs": []
    },
    {
      "cell_type": "markdown",
      "metadata": {
        "id": "3hsog4ZiP84Q"
      },
      "source": [
        "1) Mostramos las primeras y ultimas filas de la base con el comando .head y.tail "
      ]
    },
    {
      "cell_type": "code",
      "metadata": {
        "colab": {
          "base_uri": "https://localhost:8080/"
        },
        "id": "uDFd5ceJODPt",
        "outputId": "0b5d20cb-cf2a-4c57-a507-7d075ca73cfd"
      },
      "source": [
        "print(df.head(6))\n",
        "print(df.tail(6))"
      ],
      "execution_count": 23,
      "outputs": [
        {
          "output_type": "stream",
          "text": [
            "   Year      ID  ... Labor_Hours       date\n",
            "0  2013  103381  ...       22392 2003-06-17\n",
            "1  2013  103404  ...       28447 2005-09-21\n",
            "2  2013  100759  ...      474784 2001-01-13\n",
            "3  2013  103246  ...       29193 2006-01-03\n",
            "4  2013  103451  ...       46393 2007-05-21\n",
            "5  2013  103433  ...       47195 2005-06-25\n",
            "\n",
            "[6 rows x 12 columns]\n",
            "      Year       ID  ... Labor_Hours       date\n",
            "1444  2013  1519713  ...         200 2005-06-25\n",
            "1445  2013  1103254  ...        8249 2006-02-05\n",
            "1446  2013  1102636  ...        1449 2007-02-07\n",
            "1447  2013  4407233  ...       43684 2002-08-17\n",
            "1448  2013  1518524  ...         622 2002-08-16\n",
            "1449  2013  1519685  ...        1020 2005-09-28\n",
            "\n",
            "[6 rows x 12 columns]\n"
          ],
          "name": "stdout"
        }
      ]
    },
    {
      "cell_type": "markdown",
      "metadata": {
        "id": "1lAjA723Qv4n"
      },
      "source": [
        "2) Mostramos el tipo de variables con el comando .dtypes"
      ]
    },
    {
      "cell_type": "code",
      "metadata": {
        "colab": {
          "base_uri": "https://localhost:8080/"
        },
        "id": "rU3BxSZ9Qn0-",
        "outputId": "ae92a70b-b831-4a70-a728-1b4c2fcd16ad"
      },
      "source": [
        "df.dtypes"
      ],
      "execution_count": 24,
      "outputs": [
        {
          "output_type": "execute_result",
          "data": {
            "text/plain": [
              "Year                          int64\n",
              "ID                            int64\n",
              "Name                         object\n",
              "State                        object\n",
              "County                       object\n",
              "Status                       object\n",
              "Type                         object\n",
              "Company Type                 object\n",
              "Production                    int64\n",
              "Average Employees             int64\n",
              "Labor_Hours                   int64\n",
              "date                 datetime64[ns]\n",
              "dtype: object"
            ]
          },
          "metadata": {
            "tags": []
          },
          "execution_count": 24
        }
      ]
    },
    {
      "cell_type": "markdown",
      "metadata": {
        "id": "Am35VNlsR0yq"
      },
      "source": [
        "3) Mostramos las primeras filas de las tres columnas elegidas"
      ]
    },
    {
      "cell_type": "code",
      "metadata": {
        "colab": {
          "base_uri": "https://localhost:8080/"
        },
        "id": "2Sydcge2Q311",
        "outputId": "bad63bc3-ec1a-42d6-a547-b2f9c20b607d"
      },
      "source": [
        "df.usecols=3\n",
        "df.head"
      ],
      "execution_count": 25,
      "outputs": [
        {
          "output_type": "execute_result",
          "data": {
            "text/plain": [
              "<bound method NDFrame.head of       Year       ID  ... Labor_Hours       date\n",
              "0     2013   103381  ...       22392 2003-06-17\n",
              "1     2013   103404  ...       28447 2005-09-21\n",
              "2     2013   100759  ...      474784 2001-01-13\n",
              "3     2013   103246  ...       29193 2006-01-03\n",
              "4     2013   103451  ...       46393 2007-05-21\n",
              "...    ...      ...  ...         ...        ...\n",
              "1445  2013  1103254  ...        8249 2006-02-05\n",
              "1446  2013  1102636  ...        1449 2007-02-07\n",
              "1447  2013  4407233  ...       43684 2002-08-17\n",
              "1448  2013  1518524  ...         622 2002-08-16\n",
              "1449  2013  1519685  ...        1020 2005-09-28\n",
              "\n",
              "[1450 rows x 12 columns]>"
            ]
          },
          "metadata": {
            "tags": []
          },
          "execution_count": 25
        }
      ]
    },
    {
      "cell_type": "markdown",
      "metadata": {
        "id": "KQEy1SjCTrD2"
      },
      "source": [
        "4) Buscamos las estadísticas basicas de la variable Production"
      ]
    },
    {
      "cell_type": "code",
      "metadata": {
        "colab": {
          "base_uri": "https://localhost:8080/"
        },
        "id": "eTNSeetyR940",
        "outputId": "37798ab1-ad0b-4752-a7db-92daaf70204f"
      },
      "source": [
        "df[\"Production\"].describe()"
      ],
      "execution_count": 26,
      "outputs": [
        {
          "output_type": "execute_result",
          "data": {
            "text/plain": [
              "count    1.450000e+03\n",
              "mean     6.792012e+05\n",
              "std      4.414922e+06\n",
              "min      0.000000e+00\n",
              "25%      0.000000e+00\n",
              "50%      3.060650e+04\n",
              "75%      2.514752e+05\n",
              "max      1.110055e+08\n",
              "Name: Production, dtype: float64"
            ]
          },
          "metadata": {
            "tags": []
          },
          "execution_count": 26
        }
      ]
    },
    {
      "cell_type": "markdown",
      "metadata": {
        "id": "jbLkz4XNWMtU"
      },
      "source": [
        "**5**) Insertamos una columna en la quinta posición."
      ]
    },
    {
      "cell_type": "code",
      "metadata": {
        "id": "Wymkrpg2Z8OX"
      },
      "source": [
        "import numpy as np\n",
        "df.insert(4,\"columna1\",np.random.randn(1450),True)"
      ],
      "execution_count": 27,
      "outputs": []
    },
    {
      "cell_type": "code",
      "metadata": {
        "colab": {
          "base_uri": "https://localhost:8080/"
        },
        "id": "V_NJBEd3e5Ct",
        "outputId": "91750066-d949-4b7f-942f-1a8b2d123b39"
      },
      "source": [
        "print(df)"
      ],
      "execution_count": 28,
      "outputs": [
        {
          "output_type": "stream",
          "text": [
            "      Year       ID  ... Labor_Hours       date\n",
            "0     2013   103381  ...       22392 2003-06-17\n",
            "1     2013   103404  ...       28447 2005-09-21\n",
            "2     2013   100759  ...      474784 2001-01-13\n",
            "3     2013   103246  ...       29193 2006-01-03\n",
            "4     2013   103451  ...       46393 2007-05-21\n",
            "...    ...      ...  ...         ...        ...\n",
            "1445  2013  1103254  ...        8249 2006-02-05\n",
            "1446  2013  1102636  ...        1449 2007-02-07\n",
            "1447  2013  4407233  ...       43684 2002-08-17\n",
            "1448  2013  1518524  ...         622 2002-08-16\n",
            "1449  2013  1519685  ...        1020 2005-09-28\n",
            "\n",
            "[1450 rows x 13 columns]\n"
          ],
          "name": "stdout"
        }
      ]
    },
    {
      "cell_type": "code",
      "metadata": {
        "colab": {
          "base_uri": "https://localhost:8080/",
          "height": 602
        },
        "id": "sECaae2cfAg8",
        "outputId": "ca6e6e3b-39a8-40e0-df17-bb8d3bc37d0c"
      },
      "source": [
        "df"
      ],
      "execution_count": 29,
      "outputs": [
        {
          "output_type": "execute_result",
          "data": {
            "text/html": [
              "<div>\n",
              "<style scoped>\n",
              "    .dataframe tbody tr th:only-of-type {\n",
              "        vertical-align: middle;\n",
              "    }\n",
              "\n",
              "    .dataframe tbody tr th {\n",
              "        vertical-align: top;\n",
              "    }\n",
              "\n",
              "    .dataframe thead th {\n",
              "        text-align: right;\n",
              "    }\n",
              "</style>\n",
              "<table border=\"1\" class=\"dataframe\">\n",
              "  <thead>\n",
              "    <tr style=\"text-align: right;\">\n",
              "      <th></th>\n",
              "      <th>Year</th>\n",
              "      <th>ID</th>\n",
              "      <th>Name</th>\n",
              "      <th>State</th>\n",
              "      <th>columna1</th>\n",
              "      <th>County</th>\n",
              "      <th>Status</th>\n",
              "      <th>Type</th>\n",
              "      <th>Company Type</th>\n",
              "      <th>Production</th>\n",
              "      <th>Average Employees</th>\n",
              "      <th>Labor_Hours</th>\n",
              "      <th>date</th>\n",
              "    </tr>\n",
              "  </thead>\n",
              "  <tbody>\n",
              "    <tr>\n",
              "      <th>0</th>\n",
              "      <td>2013</td>\n",
              "      <td>103381</td>\n",
              "      <td>Tacoa Highwall Miner</td>\n",
              "      <td>Alabama</td>\n",
              "      <td>-2.166488</td>\n",
              "      <td>Bibb</td>\n",
              "      <td>Active, men working, not producing</td>\n",
              "      <td>Surface</td>\n",
              "      <td>Indepedent Producer Operator</td>\n",
              "      <td>56004</td>\n",
              "      <td>10</td>\n",
              "      <td>22392</td>\n",
              "      <td>2003-06-17</td>\n",
              "    </tr>\n",
              "    <tr>\n",
              "      <th>1</th>\n",
              "      <td>2013</td>\n",
              "      <td>103404</td>\n",
              "      <td>Reid School Mine</td>\n",
              "      <td>Alabama</td>\n",
              "      <td>-1.152812</td>\n",
              "      <td>Blount</td>\n",
              "      <td>Permanently abandoned</td>\n",
              "      <td>Surface</td>\n",
              "      <td>Indepedent Producer Operator</td>\n",
              "      <td>28807</td>\n",
              "      <td>18</td>\n",
              "      <td>28447</td>\n",
              "      <td>2005-09-21</td>\n",
              "    </tr>\n",
              "    <tr>\n",
              "      <th>2</th>\n",
              "      <td>2013</td>\n",
              "      <td>100759</td>\n",
              "      <td>North River #1 Underground Min</td>\n",
              "      <td>Alabama</td>\n",
              "      <td>-1.498690</td>\n",
              "      <td>Fayette</td>\n",
              "      <td>Active, men working, not producing</td>\n",
              "      <td>Underground</td>\n",
              "      <td>Indepedent Producer Operator</td>\n",
              "      <td>1440115</td>\n",
              "      <td>183</td>\n",
              "      <td>474784</td>\n",
              "      <td>2001-01-13</td>\n",
              "    </tr>\n",
              "    <tr>\n",
              "      <th>3</th>\n",
              "      <td>2013</td>\n",
              "      <td>103246</td>\n",
              "      <td>Bear Creek</td>\n",
              "      <td>Alabama</td>\n",
              "      <td>0.109727</td>\n",
              "      <td>Franklin</td>\n",
              "      <td>Active</td>\n",
              "      <td>Surface</td>\n",
              "      <td>Indepedent Producer Operator</td>\n",
              "      <td>87587</td>\n",
              "      <td>13</td>\n",
              "      <td>29193</td>\n",
              "      <td>2006-01-03</td>\n",
              "    </tr>\n",
              "    <tr>\n",
              "      <th>4</th>\n",
              "      <td>2013</td>\n",
              "      <td>103451</td>\n",
              "      <td>Knight Mine</td>\n",
              "      <td>Alabama</td>\n",
              "      <td>0.787788</td>\n",
              "      <td>Franklin</td>\n",
              "      <td>Active</td>\n",
              "      <td>Surface</td>\n",
              "      <td>Indepedent Producer Operator</td>\n",
              "      <td>147499</td>\n",
              "      <td>27</td>\n",
              "      <td>46393</td>\n",
              "      <td>2007-05-21</td>\n",
              "    </tr>\n",
              "    <tr>\n",
              "      <th>...</th>\n",
              "      <td>...</td>\n",
              "      <td>...</td>\n",
              "      <td>...</td>\n",
              "      <td>...</td>\n",
              "      <td>...</td>\n",
              "      <td>...</td>\n",
              "      <td>...</td>\n",
              "      <td>...</td>\n",
              "      <td>...</td>\n",
              "      <td>...</td>\n",
              "      <td>...</td>\n",
              "      <td>...</td>\n",
              "      <td>...</td>\n",
              "    </tr>\n",
              "    <tr>\n",
              "      <th>1445</th>\n",
              "      <td>2013</td>\n",
              "      <td>1103254</td>\n",
              "      <td>Fidelity Mine</td>\n",
              "      <td>Refuse Recovery</td>\n",
              "      <td>-0.654204</td>\n",
              "      <td>Perry</td>\n",
              "      <td>Active, men working, not producing</td>\n",
              "      <td>Refuse</td>\n",
              "      <td>Operating Subsidiary</td>\n",
              "      <td>18532</td>\n",
              "      <td>4</td>\n",
              "      <td>8249</td>\n",
              "      <td>2006-02-05</td>\n",
              "    </tr>\n",
              "    <tr>\n",
              "      <th>1446</th>\n",
              "      <td>2013</td>\n",
              "      <td>1102636</td>\n",
              "      <td>Wfi</td>\n",
              "      <td>Refuse Recovery</td>\n",
              "      <td>0.346837</td>\n",
              "      <td>Saline</td>\n",
              "      <td>Active, men working, not producing</td>\n",
              "      <td>Refuse</td>\n",
              "      <td>Indepedent Producer Operator</td>\n",
              "      <td>5070</td>\n",
              "      <td>4</td>\n",
              "      <td>1449</td>\n",
              "      <td>2007-02-07</td>\n",
              "    </tr>\n",
              "    <tr>\n",
              "      <th>1447</th>\n",
              "      <td>2013</td>\n",
              "      <td>4407233</td>\n",
              "      <td>Gobco #8</td>\n",
              "      <td>Refuse Recovery</td>\n",
              "      <td>0.209095</td>\n",
              "      <td>Russell</td>\n",
              "      <td>Active</td>\n",
              "      <td>Refuse</td>\n",
              "      <td>Indepedent Producer Operator</td>\n",
              "      <td>377607</td>\n",
              "      <td>16</td>\n",
              "      <td>43684</td>\n",
              "      <td>2002-08-17</td>\n",
              "    </tr>\n",
              "    <tr>\n",
              "      <th>1448</th>\n",
              "      <td>2013</td>\n",
              "      <td>1518524</td>\n",
              "      <td>Turkey Pen Refuse</td>\n",
              "      <td>Refuse Recovery</td>\n",
              "      <td>-1.625879</td>\n",
              "      <td>Pike</td>\n",
              "      <td>Active</td>\n",
              "      <td>Refuse</td>\n",
              "      <td>Indepedent Producer Operator</td>\n",
              "      <td>7744</td>\n",
              "      <td>2</td>\n",
              "      <td>622</td>\n",
              "      <td>2002-08-16</td>\n",
              "    </tr>\n",
              "    <tr>\n",
              "      <th>1449</th>\n",
              "      <td>2013</td>\n",
              "      <td>1519685</td>\n",
              "      <td>Fedscreek Refuse Pile</td>\n",
              "      <td>Refuse Recovery</td>\n",
              "      <td>-1.062171</td>\n",
              "      <td>Pike</td>\n",
              "      <td>Active, men working, not producing</td>\n",
              "      <td>Refuse</td>\n",
              "      <td>Indepedent Producer Operator</td>\n",
              "      <td>17357</td>\n",
              "      <td>3</td>\n",
              "      <td>1020</td>\n",
              "      <td>2005-09-28</td>\n",
              "    </tr>\n",
              "  </tbody>\n",
              "</table>\n",
              "<p>1450 rows × 13 columns</p>\n",
              "</div>"
            ],
            "text/plain": [
              "      Year       ID  ... Labor_Hours       date\n",
              "0     2013   103381  ...       22392 2003-06-17\n",
              "1     2013   103404  ...       28447 2005-09-21\n",
              "2     2013   100759  ...      474784 2001-01-13\n",
              "3     2013   103246  ...       29193 2006-01-03\n",
              "4     2013   103451  ...       46393 2007-05-21\n",
              "...    ...      ...  ...         ...        ...\n",
              "1445  2013  1103254  ...        8249 2006-02-05\n",
              "1446  2013  1102636  ...        1449 2007-02-07\n",
              "1447  2013  4407233  ...       43684 2002-08-17\n",
              "1448  2013  1518524  ...         622 2002-08-16\n",
              "1449  2013  1519685  ...        1020 2005-09-28\n",
              "\n",
              "[1450 rows x 13 columns]"
            ]
          },
          "metadata": {
            "tags": []
          },
          "execution_count": 29
        }
      ]
    },
    {
      "cell_type": "markdown",
      "metadata": {
        "id": "OY4n_M_pdDc1"
      },
      "source": [
        "6) Importamos a un dataframe saltando las primeras 10 filas."
      ]
    },
    {
      "cell_type": "code",
      "metadata": {
        "id": "gsX6wVZjdA4c"
      },
      "source": [
        "data = pd.read_excel('base_tarea.xls' , skiprows = 10)"
      ],
      "execution_count": 30,
      "outputs": []
    },
    {
      "cell_type": "code",
      "metadata": {
        "colab": {
          "base_uri": "https://localhost:8080/",
          "height": 417
        },
        "id": "RP9eBPOsiMGx",
        "outputId": "42f4ce8a-b330-4b85-cdbb-0338bca368a4"
      },
      "source": [
        "data"
      ],
      "execution_count": 31,
      "outputs": [
        {
          "output_type": "execute_result",
          "data": {
            "text/html": [
              "<div>\n",
              "<style scoped>\n",
              "    .dataframe tbody tr th:only-of-type {\n",
              "        vertical-align: middle;\n",
              "    }\n",
              "\n",
              "    .dataframe tbody tr th {\n",
              "        vertical-align: top;\n",
              "    }\n",
              "\n",
              "    .dataframe thead th {\n",
              "        text-align: right;\n",
              "    }\n",
              "</style>\n",
              "<table border=\"1\" class=\"dataframe\">\n",
              "  <thead>\n",
              "    <tr style=\"text-align: right;\">\n",
              "      <th></th>\n",
              "      <th>2013</th>\n",
              "      <th>102901</th>\n",
              "      <th>Shoal Creek Mine</th>\n",
              "      <th>Alabama</th>\n",
              "      <th>Jefferson</th>\n",
              "      <th>Active</th>\n",
              "      <th>Underground</th>\n",
              "      <th>Indepedent Producer Operator</th>\n",
              "      <th>1453024</th>\n",
              "      <th>571</th>\n",
              "      <th>1237415</th>\n",
              "      <th>2002-08-16 00:00:00</th>\n",
              "    </tr>\n",
              "  </thead>\n",
              "  <tbody>\n",
              "    <tr>\n",
              "      <th>0</th>\n",
              "      <td>2013</td>\n",
              "      <td>103180</td>\n",
              "      <td>Sloan Mountain Mine</td>\n",
              "      <td>Alabama</td>\n",
              "      <td>Jefferson</td>\n",
              "      <td>Active</td>\n",
              "      <td>Surface</td>\n",
              "      <td>Indepedent Producer Operator</td>\n",
              "      <td>327780</td>\n",
              "      <td>84</td>\n",
              "      <td>196963</td>\n",
              "      <td>2005-09-28</td>\n",
              "    </tr>\n",
              "    <tr>\n",
              "      <th>1</th>\n",
              "      <td>2013</td>\n",
              "      <td>103182</td>\n",
              "      <td>Fishtrap</td>\n",
              "      <td>Alabama</td>\n",
              "      <td>Jefferson</td>\n",
              "      <td>Active</td>\n",
              "      <td>Surface</td>\n",
              "      <td>Operating Subsidiary</td>\n",
              "      <td>175058</td>\n",
              "      <td>30</td>\n",
              "      <td>87314</td>\n",
              "      <td>2005-09-30</td>\n",
              "    </tr>\n",
              "    <tr>\n",
              "      <th>2</th>\n",
              "      <td>2013</td>\n",
              "      <td>103285</td>\n",
              "      <td>Narley Mine</td>\n",
              "      <td>Alabama</td>\n",
              "      <td>Jefferson</td>\n",
              "      <td>Active</td>\n",
              "      <td>Surface</td>\n",
              "      <td>Operating Subsidiary</td>\n",
              "      <td>154861</td>\n",
              "      <td>39</td>\n",
              "      <td>90584</td>\n",
              "      <td>2006-03-07</td>\n",
              "    </tr>\n",
              "    <tr>\n",
              "      <th>3</th>\n",
              "      <td>2013</td>\n",
              "      <td>103332</td>\n",
              "      <td>Powhatan Mine</td>\n",
              "      <td>Alabama</td>\n",
              "      <td>Jefferson</td>\n",
              "      <td>Active</td>\n",
              "      <td>Surface</td>\n",
              "      <td>Indepedent Producer Operator</td>\n",
              "      <td>140521</td>\n",
              "      <td>27</td>\n",
              "      <td>61394</td>\n",
              "      <td>2007-12-07</td>\n",
              "    </tr>\n",
              "    <tr>\n",
              "      <th>4</th>\n",
              "      <td>2013</td>\n",
              "      <td>103375</td>\n",
              "      <td>Johnson Mine</td>\n",
              "      <td>Alabama</td>\n",
              "      <td>Jefferson</td>\n",
              "      <td>Temporarily closed</td>\n",
              "      <td>Surface</td>\n",
              "      <td>Indepedent Producer Operator</td>\n",
              "      <td>580</td>\n",
              "      <td>2</td>\n",
              "      <td>1900</td>\n",
              "      <td>2002-12-07</td>\n",
              "    </tr>\n",
              "    <tr>\n",
              "      <th>...</th>\n",
              "      <td>...</td>\n",
              "      <td>...</td>\n",
              "      <td>...</td>\n",
              "      <td>...</td>\n",
              "      <td>...</td>\n",
              "      <td>...</td>\n",
              "      <td>...</td>\n",
              "      <td>...</td>\n",
              "      <td>...</td>\n",
              "      <td>...</td>\n",
              "      <td>...</td>\n",
              "      <td>...</td>\n",
              "    </tr>\n",
              "    <tr>\n",
              "      <th>1435</th>\n",
              "      <td>2013</td>\n",
              "      <td>1103254</td>\n",
              "      <td>Fidelity Mine</td>\n",
              "      <td>Refuse Recovery</td>\n",
              "      <td>Perry</td>\n",
              "      <td>Active, men working, not producing</td>\n",
              "      <td>Refuse</td>\n",
              "      <td>Operating Subsidiary</td>\n",
              "      <td>18532</td>\n",
              "      <td>4</td>\n",
              "      <td>8249</td>\n",
              "      <td>2006-02-05</td>\n",
              "    </tr>\n",
              "    <tr>\n",
              "      <th>1436</th>\n",
              "      <td>2013</td>\n",
              "      <td>1102636</td>\n",
              "      <td>Wfi</td>\n",
              "      <td>Refuse Recovery</td>\n",
              "      <td>Saline</td>\n",
              "      <td>Active, men working, not producing</td>\n",
              "      <td>Refuse</td>\n",
              "      <td>Indepedent Producer Operator</td>\n",
              "      <td>5070</td>\n",
              "      <td>4</td>\n",
              "      <td>1449</td>\n",
              "      <td>2007-02-07</td>\n",
              "    </tr>\n",
              "    <tr>\n",
              "      <th>1437</th>\n",
              "      <td>2013</td>\n",
              "      <td>4407233</td>\n",
              "      <td>Gobco #8</td>\n",
              "      <td>Refuse Recovery</td>\n",
              "      <td>Russell</td>\n",
              "      <td>Active</td>\n",
              "      <td>Refuse</td>\n",
              "      <td>Indepedent Producer Operator</td>\n",
              "      <td>377607</td>\n",
              "      <td>16</td>\n",
              "      <td>43684</td>\n",
              "      <td>2002-08-17</td>\n",
              "    </tr>\n",
              "    <tr>\n",
              "      <th>1438</th>\n",
              "      <td>2013</td>\n",
              "      <td>1518524</td>\n",
              "      <td>Turkey Pen Refuse</td>\n",
              "      <td>Refuse Recovery</td>\n",
              "      <td>Pike</td>\n",
              "      <td>Active</td>\n",
              "      <td>Refuse</td>\n",
              "      <td>Indepedent Producer Operator</td>\n",
              "      <td>7744</td>\n",
              "      <td>2</td>\n",
              "      <td>622</td>\n",
              "      <td>2002-08-16</td>\n",
              "    </tr>\n",
              "    <tr>\n",
              "      <th>1439</th>\n",
              "      <td>2013</td>\n",
              "      <td>1519685</td>\n",
              "      <td>Fedscreek Refuse Pile</td>\n",
              "      <td>Refuse Recovery</td>\n",
              "      <td>Pike</td>\n",
              "      <td>Active, men working, not producing</td>\n",
              "      <td>Refuse</td>\n",
              "      <td>Indepedent Producer Operator</td>\n",
              "      <td>17357</td>\n",
              "      <td>3</td>\n",
              "      <td>1020</td>\n",
              "      <td>2005-09-28</td>\n",
              "    </tr>\n",
              "  </tbody>\n",
              "</table>\n",
              "<p>1440 rows × 12 columns</p>\n",
              "</div>"
            ],
            "text/plain": [
              "      2013   102901       Shoal Creek Mine  ... 571 1237415 2002-08-16 00:00:00\n",
              "0     2013   103180    Sloan Mountain Mine  ...  84  196963          2005-09-28\n",
              "1     2013   103182               Fishtrap  ...  30   87314          2005-09-30\n",
              "2     2013   103285            Narley Mine  ...  39   90584          2006-03-07\n",
              "3     2013   103332          Powhatan Mine  ...  27   61394          2007-12-07\n",
              "4     2013   103375           Johnson Mine  ...   2    1900          2002-12-07\n",
              "...    ...      ...                    ...  ...  ..     ...                 ...\n",
              "1435  2013  1103254          Fidelity Mine  ...   4    8249          2006-02-05\n",
              "1436  2013  1102636                    Wfi  ...   4    1449          2007-02-07\n",
              "1437  2013  4407233               Gobco #8  ...  16   43684          2002-08-17\n",
              "1438  2013  1518524      Turkey Pen Refuse  ...   2     622          2002-08-16\n",
              "1439  2013  1519685  Fedscreek Refuse Pile  ...   3    1020          2005-09-28\n",
              "\n",
              "[1440 rows x 12 columns]"
            ]
          },
          "metadata": {
            "tags": []
          },
          "execution_count": 31
        }
      ]
    },
    {
      "cell_type": "markdown",
      "metadata": {
        "id": "PxKWqzCHcIZX"
      },
      "source": [
        "7) Añadimos una fila con el total de la producción y de las horas trabajadas."
      ]
    },
    {
      "cell_type": "code",
      "metadata": {
        "colab": {
          "base_uri": "https://localhost:8080/"
        },
        "id": "GKpqwXKFi1lJ",
        "outputId": "9b019e1d-cd90-487a-a6d4-8db05e408221"
      },
      "source": [
        "df.loc['Total']=df.sum(axis=0)\n",
        "print(df)"
      ],
      "execution_count": 32,
      "outputs": [
        {
          "output_type": "stream",
          "text": [
            "          Year          ID  ... Labor_Hours                 date\n",
            "0         2013      103381  ...       22392  2003-06-17 00:00:00\n",
            "1         2013      103404  ...       28447  2005-09-21 00:00:00\n",
            "2         2013      100759  ...      474784  2001-01-13 00:00:00\n",
            "3         2013      103246  ...       29193  2006-01-03 00:00:00\n",
            "4         2013      103451  ...       46393  2007-05-21 00:00:00\n",
            "...        ...         ...  ...         ...                  ...\n",
            "1446      2013     1102636  ...        1449  2007-02-07 00:00:00\n",
            "1447      2013     4407233  ...       43684  2002-08-17 00:00:00\n",
            "1448      2013     1518524  ...         622  2002-08-16 00:00:00\n",
            "1449      2013     1519685  ...        1020  2005-09-28 00:00:00\n",
            "Total  2918850  4451433769  ...   177910757                  NaN\n",
            "\n",
            "[1451 rows x 13 columns]\n"
          ],
          "name": "stdout"
        }
      ]
    },
    {
      "cell_type": "markdown",
      "metadata": {
        "id": "EtPyDS-RjHk1"
      },
      "source": [
        "8)Importamos a un dataframe las primeras 10 filas."
      ]
    },
    {
      "cell_type": "code",
      "metadata": {
        "id": "LfoGFqu6cWhZ"
      },
      "source": [
        "data1= df.head(n=10)\n"
      ],
      "execution_count": 33,
      "outputs": []
    },
    {
      "cell_type": "markdown",
      "metadata": {
        "id": "JLFXL4f2jz9g"
      },
      "source": [
        "9) Creamos el subtotal de horas de trabajo por ID.\n",
        "\n"
      ]
    },
    {
      "cell_type": "code",
      "metadata": {
        "id": "ie26h9RZiVai"
      },
      "source": [
        "df1=df.groupby(['Labor_Hours'])[['ID']].sum()\n",
        "print(df1)"
      ],
      "execution_count": 37,
      "outputs": []
    },
    {
      "cell_type": "markdown",
      "metadata": {
        "id": "n9iLFxqGtMM9"
      },
      "source": [
        "10) Mostramos los valores para un ID específico"
      ]
    },
    {
      "cell_type": "code",
      "metadata": {
        "colab": {
          "base_uri": "https://localhost:8080/",
          "height": 110
        },
        "id": "1Q0hoynci0Ll",
        "outputId": "f315e705-01b7-4334-e3a7-11c78e6dec37"
      },
      "source": [
        "df[df[\"ID\"]==102976].head()"
      ],
      "execution_count": 77,
      "outputs": [
        {
          "output_type": "execute_result",
          "data": {
            "text/html": [
              "<div>\n",
              "<style scoped>\n",
              "    .dataframe tbody tr th:only-of-type {\n",
              "        vertical-align: middle;\n",
              "    }\n",
              "\n",
              "    .dataframe tbody tr th {\n",
              "        vertical-align: top;\n",
              "    }\n",
              "\n",
              "    .dataframe thead th {\n",
              "        text-align: right;\n",
              "    }\n",
              "</style>\n",
              "<table border=\"1\" class=\"dataframe\">\n",
              "  <thead>\n",
              "    <tr style=\"text-align: right;\">\n",
              "      <th></th>\n",
              "      <th>Year</th>\n",
              "      <th>ID</th>\n",
              "      <th>Name</th>\n",
              "      <th>State</th>\n",
              "      <th>County</th>\n",
              "      <th>Status</th>\n",
              "      <th>Type</th>\n",
              "      <th>Company Type</th>\n",
              "      <th>Production</th>\n",
              "      <th>Average Employees</th>\n",
              "      <th>Labor_Hours</th>\n",
              "      <th>date</th>\n",
              "    </tr>\n",
              "  </thead>\n",
              "  <tbody>\n",
              "    <tr>\n",
              "      <th>18</th>\n",
              "      <td>2013</td>\n",
              "      <td>102976</td>\n",
              "      <td>Piney Woods Preparation Plant</td>\n",
              "      <td>Alabama</td>\n",
              "      <td>Shelby</td>\n",
              "      <td>Active</td>\n",
              "      <td>Surface</td>\n",
              "      <td>Indepedent Producer Operator</td>\n",
              "      <td>0</td>\n",
              "      <td>5</td>\n",
              "      <td>14828</td>\n",
              "      <td>2006-11-15</td>\n",
              "    </tr>\n",
              "    <tr>\n",
              "      <th>19</th>\n",
              "      <td>2013</td>\n",
              "      <td>102976</td>\n",
              "      <td>Piney Woods Preparation Plant</td>\n",
              "      <td>Alabama</td>\n",
              "      <td>Shelby</td>\n",
              "      <td>Active</td>\n",
              "      <td>Underground</td>\n",
              "      <td>Indepedent Producer Operator</td>\n",
              "      <td>0</td>\n",
              "      <td>9</td>\n",
              "      <td>23193</td>\n",
              "      <td>2007-08-10</td>\n",
              "    </tr>\n",
              "  </tbody>\n",
              "</table>\n",
              "</div>"
            ],
            "text/plain": [
              "    Year      ID  ... Labor_Hours       date\n",
              "18  2013  102976  ...       14828 2006-11-15\n",
              "19  2013  102976  ...       23193 2007-08-10\n",
              "\n",
              "[2 rows x 12 columns]"
            ]
          },
          "metadata": {
            "tags": []
          },
          "execution_count": 77
        }
      ]
    },
    {
      "cell_type": "markdown",
      "metadata": {
        "id": "5aSoXPQjs07E"
      },
      "source": [
        "11) Mostramos las observaciones con horas trabajadas mayores a 25000"
      ]
    },
    {
      "cell_type": "code",
      "metadata": {
        "colab": {
          "base_uri": "https://localhost:8080/",
          "height": 304
        },
        "id": "QhkvrqBYnm92",
        "outputId": "43e198a0-2d92-4683-ee75-5a5f77613f25"
      },
      "source": [
        "df[df[\"Labor_Hours\"] > 25000].head()"
      ],
      "execution_count": 78,
      "outputs": [
        {
          "output_type": "execute_result",
          "data": {
            "text/html": [
              "<div>\n",
              "<style scoped>\n",
              "    .dataframe tbody tr th:only-of-type {\n",
              "        vertical-align: middle;\n",
              "    }\n",
              "\n",
              "    .dataframe tbody tr th {\n",
              "        vertical-align: top;\n",
              "    }\n",
              "\n",
              "    .dataframe thead th {\n",
              "        text-align: right;\n",
              "    }\n",
              "</style>\n",
              "<table border=\"1\" class=\"dataframe\">\n",
              "  <thead>\n",
              "    <tr style=\"text-align: right;\">\n",
              "      <th></th>\n",
              "      <th>Year</th>\n",
              "      <th>ID</th>\n",
              "      <th>Name</th>\n",
              "      <th>State</th>\n",
              "      <th>County</th>\n",
              "      <th>Status</th>\n",
              "      <th>Type</th>\n",
              "      <th>Company Type</th>\n",
              "      <th>Production</th>\n",
              "      <th>Average Employees</th>\n",
              "      <th>Labor_Hours</th>\n",
              "      <th>date</th>\n",
              "    </tr>\n",
              "  </thead>\n",
              "  <tbody>\n",
              "    <tr>\n",
              "      <th>1</th>\n",
              "      <td>2013</td>\n",
              "      <td>103404</td>\n",
              "      <td>Reid School Mine</td>\n",
              "      <td>Alabama</td>\n",
              "      <td>Blount</td>\n",
              "      <td>Permanently abandoned</td>\n",
              "      <td>Surface</td>\n",
              "      <td>Indepedent Producer Operator</td>\n",
              "      <td>28807</td>\n",
              "      <td>18</td>\n",
              "      <td>28447</td>\n",
              "      <td>2005-09-21</td>\n",
              "    </tr>\n",
              "    <tr>\n",
              "      <th>2</th>\n",
              "      <td>2013</td>\n",
              "      <td>100759</td>\n",
              "      <td>North River #1 Underground Min</td>\n",
              "      <td>Alabama</td>\n",
              "      <td>Fayette</td>\n",
              "      <td>Active, men working, not producing</td>\n",
              "      <td>Underground</td>\n",
              "      <td>Indepedent Producer Operator</td>\n",
              "      <td>1440115</td>\n",
              "      <td>183</td>\n",
              "      <td>474784</td>\n",
              "      <td>2001-01-13</td>\n",
              "    </tr>\n",
              "    <tr>\n",
              "      <th>3</th>\n",
              "      <td>2013</td>\n",
              "      <td>103246</td>\n",
              "      <td>Bear Creek</td>\n",
              "      <td>Alabama</td>\n",
              "      <td>Franklin</td>\n",
              "      <td>Active</td>\n",
              "      <td>Surface</td>\n",
              "      <td>Indepedent Producer Operator</td>\n",
              "      <td>87587</td>\n",
              "      <td>13</td>\n",
              "      <td>29193</td>\n",
              "      <td>2006-01-03</td>\n",
              "    </tr>\n",
              "    <tr>\n",
              "      <th>4</th>\n",
              "      <td>2013</td>\n",
              "      <td>103451</td>\n",
              "      <td>Knight Mine</td>\n",
              "      <td>Alabama</td>\n",
              "      <td>Franklin</td>\n",
              "      <td>Active</td>\n",
              "      <td>Surface</td>\n",
              "      <td>Indepedent Producer Operator</td>\n",
              "      <td>147499</td>\n",
              "      <td>27</td>\n",
              "      <td>46393</td>\n",
              "      <td>2007-05-21</td>\n",
              "    </tr>\n",
              "    <tr>\n",
              "      <th>5</th>\n",
              "      <td>2013</td>\n",
              "      <td>103433</td>\n",
              "      <td>Crane Central Mine</td>\n",
              "      <td>Alabama</td>\n",
              "      <td>Jackson</td>\n",
              "      <td>Temporarily closed</td>\n",
              "      <td>Surface</td>\n",
              "      <td>Indepedent Producer Operator</td>\n",
              "      <td>69339</td>\n",
              "      <td>27</td>\n",
              "      <td>47195</td>\n",
              "      <td>2005-06-25</td>\n",
              "    </tr>\n",
              "  </tbody>\n",
              "</table>\n",
              "</div>"
            ],
            "text/plain": [
              "   Year      ID  ... Labor_Hours       date\n",
              "1  2013  103404  ...       28447 2005-09-21\n",
              "2  2013  100759  ...      474784 2001-01-13\n",
              "3  2013  103246  ...       29193 2006-01-03\n",
              "4  2013  103451  ...       46393 2007-05-21\n",
              "5  2013  103433  ...       47195 2005-06-25\n",
              "\n",
              "[5 rows x 12 columns]"
            ]
          },
          "metadata": {
            "tags": []
          },
          "execution_count": 78
        }
      ]
    },
    {
      "cell_type": "markdown",
      "metadata": {
        "id": "3ULGXn92DG57"
      },
      "source": [
        "12) Encontramos registros con identificaciones específicas."
      ]
    },
    {
      "cell_type": "code",
      "metadata": {
        "colab": {
          "base_uri": "https://localhost:8080/",
          "height": 142
        },
        "id": "h_VZrarioo6D",
        "outputId": "13fdd2ea-cd0e-4feb-93a2-a0ef69a8c6a4"
      },
      "source": [
        "df[df[\"ID\"].isin([102976,103246])].head()"
      ],
      "execution_count": 79,
      "outputs": [
        {
          "output_type": "execute_result",
          "data": {
            "text/html": [
              "<div>\n",
              "<style scoped>\n",
              "    .dataframe tbody tr th:only-of-type {\n",
              "        vertical-align: middle;\n",
              "    }\n",
              "\n",
              "    .dataframe tbody tr th {\n",
              "        vertical-align: top;\n",
              "    }\n",
              "\n",
              "    .dataframe thead th {\n",
              "        text-align: right;\n",
              "    }\n",
              "</style>\n",
              "<table border=\"1\" class=\"dataframe\">\n",
              "  <thead>\n",
              "    <tr style=\"text-align: right;\">\n",
              "      <th></th>\n",
              "      <th>Year</th>\n",
              "      <th>ID</th>\n",
              "      <th>Name</th>\n",
              "      <th>State</th>\n",
              "      <th>County</th>\n",
              "      <th>Status</th>\n",
              "      <th>Type</th>\n",
              "      <th>Company Type</th>\n",
              "      <th>Production</th>\n",
              "      <th>Average Employees</th>\n",
              "      <th>Labor_Hours</th>\n",
              "      <th>date</th>\n",
              "    </tr>\n",
              "  </thead>\n",
              "  <tbody>\n",
              "    <tr>\n",
              "      <th>3</th>\n",
              "      <td>2013</td>\n",
              "      <td>103246</td>\n",
              "      <td>Bear Creek</td>\n",
              "      <td>Alabama</td>\n",
              "      <td>Franklin</td>\n",
              "      <td>Active</td>\n",
              "      <td>Surface</td>\n",
              "      <td>Indepedent Producer Operator</td>\n",
              "      <td>87587</td>\n",
              "      <td>13</td>\n",
              "      <td>29193</td>\n",
              "      <td>2006-01-03</td>\n",
              "    </tr>\n",
              "    <tr>\n",
              "      <th>18</th>\n",
              "      <td>2013</td>\n",
              "      <td>102976</td>\n",
              "      <td>Piney Woods Preparation Plant</td>\n",
              "      <td>Alabama</td>\n",
              "      <td>Shelby</td>\n",
              "      <td>Active</td>\n",
              "      <td>Surface</td>\n",
              "      <td>Indepedent Producer Operator</td>\n",
              "      <td>0</td>\n",
              "      <td>5</td>\n",
              "      <td>14828</td>\n",
              "      <td>2006-11-15</td>\n",
              "    </tr>\n",
              "    <tr>\n",
              "      <th>19</th>\n",
              "      <td>2013</td>\n",
              "      <td>102976</td>\n",
              "      <td>Piney Woods Preparation Plant</td>\n",
              "      <td>Alabama</td>\n",
              "      <td>Shelby</td>\n",
              "      <td>Active</td>\n",
              "      <td>Underground</td>\n",
              "      <td>Indepedent Producer Operator</td>\n",
              "      <td>0</td>\n",
              "      <td>9</td>\n",
              "      <td>23193</td>\n",
              "      <td>2007-08-10</td>\n",
              "    </tr>\n",
              "  </tbody>\n",
              "</table>\n",
              "</div>"
            ],
            "text/plain": [
              "    Year      ID  ... Labor_Hours       date\n",
              "3   2013  103246  ...       29193 2006-01-03\n",
              "18  2013  102976  ...       14828 2006-11-15\n",
              "19  2013  102976  ...       23193 2007-08-10\n",
              "\n",
              "[3 rows x 12 columns]"
            ]
          },
          "metadata": {
            "tags": []
          },
          "execution_count": 79
        }
      ]
    },
    {
      "cell_type": "markdown",
      "metadata": {
        "id": "0Jd7QFCxu69S"
      },
      "source": [
        "13) Ordenamos los registros por horas trabajadas."
      ]
    },
    {
      "cell_type": "code",
      "metadata": {
        "colab": {
          "base_uri": "https://localhost:8080/",
          "height": 823
        },
        "id": "bFJEqW0buPSt",
        "outputId": "251e3e6b-0d57-4724-c0f9-828eeb9c1335"
      },
      "source": [
        "df.sort_values(by=\"Labor_Hours\")"
      ],
      "execution_count": 62,
      "outputs": [
        {
          "output_type": "execute_result",
          "data": {
            "text/html": [
              "<div>\n",
              "<style scoped>\n",
              "    .dataframe tbody tr th:only-of-type {\n",
              "        vertical-align: middle;\n",
              "    }\n",
              "\n",
              "    .dataframe tbody tr th {\n",
              "        vertical-align: top;\n",
              "    }\n",
              "\n",
              "    .dataframe thead th {\n",
              "        text-align: right;\n",
              "    }\n",
              "</style>\n",
              "<table border=\"1\" class=\"dataframe\">\n",
              "  <thead>\n",
              "    <tr style=\"text-align: right;\">\n",
              "      <th></th>\n",
              "      <th>Year</th>\n",
              "      <th>ID</th>\n",
              "      <th>Name</th>\n",
              "      <th>State</th>\n",
              "      <th>columna1</th>\n",
              "      <th>County</th>\n",
              "      <th>Status</th>\n",
              "      <th>Type</th>\n",
              "      <th>Company Type</th>\n",
              "      <th>Production</th>\n",
              "      <th>Average Employees</th>\n",
              "      <th>Labor_Hours</th>\n",
              "      <th>date</th>\n",
              "    </tr>\n",
              "  </thead>\n",
              "  <tbody>\n",
              "    <tr>\n",
              "      <th>837</th>\n",
              "      <td>2013</td>\n",
              "      <td>3608140</td>\n",
              "      <td>Bell Corp</td>\n",
              "      <td>Pennsylvania (Anthracite)</td>\n",
              "      <td>-1.251130</td>\n",
              "      <td>Schuylkill</td>\n",
              "      <td>Temporarily closed</td>\n",
              "      <td>Surface</td>\n",
              "      <td>Indepedent Producer Operator</td>\n",
              "      <td>23</td>\n",
              "      <td>2</td>\n",
              "      <td>35</td>\n",
              "      <td>2005-09-21 00:00:00</td>\n",
              "    </tr>\n",
              "    <tr>\n",
              "      <th>213</th>\n",
              "      <td>2013</td>\n",
              "      <td>1519619</td>\n",
              "      <td>No. 1 Auger</td>\n",
              "      <td>Kentucky (East)</td>\n",
              "      <td>-0.505223</td>\n",
              "      <td>Floyd</td>\n",
              "      <td>Temporarily closed</td>\n",
              "      <td>Surface</td>\n",
              "      <td>Indepedent Producer Operator</td>\n",
              "      <td>700</td>\n",
              "      <td>3</td>\n",
              "      <td>40</td>\n",
              "      <td>2005-07-24 00:00:00</td>\n",
              "    </tr>\n",
              "    <tr>\n",
              "      <th>1437</th>\n",
              "      <td>2013</td>\n",
              "      <td>3610027</td>\n",
              "      <td>Paradise Bank</td>\n",
              "      <td>Refuse Recovery</td>\n",
              "      <td>0.756849</td>\n",
              "      <td>Northumberland</td>\n",
              "      <td>New, under construction</td>\n",
              "      <td>Refuse</td>\n",
              "      <td>Indepedent Producer Operator</td>\n",
              "      <td>52</td>\n",
              "      <td>1</td>\n",
              "      <td>53</td>\n",
              "      <td>2005-07-24 00:00:00</td>\n",
              "    </tr>\n",
              "    <tr>\n",
              "      <th>740</th>\n",
              "      <td>2013</td>\n",
              "      <td>3609189</td>\n",
              "      <td>Ser #3163</td>\n",
              "      <td>Pennsylvania (Bituminous)</td>\n",
              "      <td>-1.345744</td>\n",
              "      <td>Indiana</td>\n",
              "      <td>Active</td>\n",
              "      <td>Surface</td>\n",
              "      <td>Indepedent Producer Operator</td>\n",
              "      <td>574</td>\n",
              "      <td>1</td>\n",
              "      <td>54</td>\n",
              "      <td>2001-01-13 00:00:00</td>\n",
              "    </tr>\n",
              "    <tr>\n",
              "      <th>1433</th>\n",
              "      <td>2013</td>\n",
              "      <td>1519554</td>\n",
              "      <td>No 1</td>\n",
              "      <td>Refuse Recovery</td>\n",
              "      <td>-1.275238</td>\n",
              "      <td>Harlan</td>\n",
              "      <td>Permanently abandoned</td>\n",
              "      <td>Refuse</td>\n",
              "      <td>Indepedent Producer Operator</td>\n",
              "      <td>8586</td>\n",
              "      <td>1</td>\n",
              "      <td>133</td>\n",
              "      <td>2007-12-07 00:00:00</td>\n",
              "    </tr>\n",
              "    <tr>\n",
              "      <th>...</th>\n",
              "      <td>...</td>\n",
              "      <td>...</td>\n",
              "      <td>...</td>\n",
              "      <td>...</td>\n",
              "      <td>...</td>\n",
              "      <td>...</td>\n",
              "      <td>...</td>\n",
              "      <td>...</td>\n",
              "      <td>...</td>\n",
              "      <td>...</td>\n",
              "      <td>...</td>\n",
              "      <td>...</td>\n",
              "      <td>...</td>\n",
              "    </tr>\n",
              "    <tr>\n",
              "      <th>25</th>\n",
              "      <td>2013</td>\n",
              "      <td>101401</td>\n",
              "      <td>No 7 Mine</td>\n",
              "      <td>Alabama</td>\n",
              "      <td>0.942400</td>\n",
              "      <td>Tuscaloosa</td>\n",
              "      <td>Active</td>\n",
              "      <td>Underground</td>\n",
              "      <td>Operating Subsidiary</td>\n",
              "      <td>5405412</td>\n",
              "      <td>989</td>\n",
              "      <td>2464719</td>\n",
              "      <td>2005-06-25 00:00:00</td>\n",
              "    </tr>\n",
              "    <tr>\n",
              "      <th>1413</th>\n",
              "      <td>2013</td>\n",
              "      <td>4801353</td>\n",
              "      <td>North Antelope Rochelle Mine</td>\n",
              "      <td>Wyoming</td>\n",
              "      <td>-2.058738</td>\n",
              "      <td>Campbell</td>\n",
              "      <td>Active</td>\n",
              "      <td>Surface</td>\n",
              "      <td>Operating Subsidiary</td>\n",
              "      <td>111005549</td>\n",
              "      <td>1349</td>\n",
              "      <td>2811138</td>\n",
              "      <td>2006-03-07 00:00:00</td>\n",
              "    </tr>\n",
              "    <tr>\n",
              "      <th>711</th>\n",
              "      <td>2013</td>\n",
              "      <td>3607230</td>\n",
              "      <td>Bailey Mine</td>\n",
              "      <td>Pennsylvania (Bituminous)</td>\n",
              "      <td>0.141205</td>\n",
              "      <td>Greene</td>\n",
              "      <td>Active</td>\n",
              "      <td>Underground</td>\n",
              "      <td>Operating Subsidiary</td>\n",
              "      <td>11321481</td>\n",
              "      <td>1222</td>\n",
              "      <td>3015772</td>\n",
              "      <td>2005-09-30 00:00:00</td>\n",
              "    </tr>\n",
              "    <tr>\n",
              "      <th>1406</th>\n",
              "      <td>2013</td>\n",
              "      <td>4800977</td>\n",
              "      <td>Black Thunder</td>\n",
              "      <td>Wyoming</td>\n",
              "      <td>0.904961</td>\n",
              "      <td>Campbell</td>\n",
              "      <td>Active</td>\n",
              "      <td>Surface</td>\n",
              "      <td>Operating Subsidiary</td>\n",
              "      <td>100687876</td>\n",
              "      <td>1585</td>\n",
              "      <td>3206295</td>\n",
              "      <td>2005-06-25 00:00:00</td>\n",
              "    </tr>\n",
              "    <tr>\n",
              "      <th>Total</th>\n",
              "      <td>2918850</td>\n",
              "      <td>4451433769</td>\n",
              "      <td>NaN</td>\n",
              "      <td>AlabamaAlabamaAlabamaAlabamaAlabamaAlabamaAlab...</td>\n",
              "      <td>-37.648978</td>\n",
              "      <td>BibbBlountFayetteFranklinFranklinJacksonJeffer...</td>\n",
              "      <td>Active, men working, not producingPermanently ...</td>\n",
              "      <td>SurfaceSurfaceUndergroundSurfaceSurfaceSurface...</td>\n",
              "      <td>Indepedent Producer OperatorIndepedent Produce...</td>\n",
              "      <td>984841779</td>\n",
              "      <td>80396</td>\n",
              "      <td>177910757</td>\n",
              "      <td>NaN</td>\n",
              "    </tr>\n",
              "  </tbody>\n",
              "</table>\n",
              "<p>1451 rows × 13 columns</p>\n",
              "</div>"
            ],
            "text/plain": [
              "          Year          ID  ... Labor_Hours                 date\n",
              "837       2013     3608140  ...          35  2005-09-21 00:00:00\n",
              "213       2013     1519619  ...          40  2005-07-24 00:00:00\n",
              "1437      2013     3610027  ...          53  2005-07-24 00:00:00\n",
              "740       2013     3609189  ...          54  2001-01-13 00:00:00\n",
              "1433      2013     1519554  ...         133  2007-12-07 00:00:00\n",
              "...        ...         ...  ...         ...                  ...\n",
              "25        2013      101401  ...     2464719  2005-06-25 00:00:00\n",
              "1413      2013     4801353  ...     2811138  2006-03-07 00:00:00\n",
              "711       2013     3607230  ...     3015772  2005-09-30 00:00:00\n",
              "1406      2013     4800977  ...     3206295  2005-06-25 00:00:00\n",
              "Total  2918850  4451433769  ...   177910757                  NaN\n",
              "\n",
              "[1451 rows x 13 columns]"
            ]
          },
          "metadata": {
            "tags": []
          },
          "execution_count": 62
        }
      ]
    },
    {
      "cell_type": "markdown",
      "metadata": {
        "id": "9pcPTLiVy5W2"
      },
      "source": [
        "  14) Realizamos la lista entre fechas."
      ]
    },
    {
      "cell_type": "code",
      "metadata": {
        "id": "YW929h9Avqqy"
      },
      "source": [
        "Df3 = df[(df['date'] >='Feb-2005') & (df['date'] <= 'Nov-2006')].head()"
      ],
      "execution_count": 81,
      "outputs": []
    },
    {
      "cell_type": "markdown",
      "metadata": {
        "id": "wgOw8W-BD6om"
      },
      "source": [
        "15) No pudimos resolverlo"
      ]
    },
    {
      "cell_type": "markdown",
      "metadata": {
        "id": "Fp80eK54zk5C"
      },
      "source": [
        "16) Ordenamos los datos entre fechas y ID."
      ]
    },
    {
      "cell_type": "code",
      "metadata": {
        "colab": {
          "base_uri": "https://localhost:8080/",
          "height": 602
        },
        "id": "hhRBBTNLznf7",
        "outputId": "6ca87e00-cffc-47a4-8b31-39378cd76930"
      },
      "source": [
        "df5 = df.sort_values(by=['ID', 'date'], ascending=[0,1])\n",
        "df5"
      ],
      "execution_count": 80,
      "outputs": [
        {
          "output_type": "execute_result",
          "data": {
            "text/html": [
              "<div>\n",
              "<style scoped>\n",
              "    .dataframe tbody tr th:only-of-type {\n",
              "        vertical-align: middle;\n",
              "    }\n",
              "\n",
              "    .dataframe tbody tr th {\n",
              "        vertical-align: top;\n",
              "    }\n",
              "\n",
              "    .dataframe thead th {\n",
              "        text-align: right;\n",
              "    }\n",
              "</style>\n",
              "<table border=\"1\" class=\"dataframe\">\n",
              "  <thead>\n",
              "    <tr style=\"text-align: right;\">\n",
              "      <th></th>\n",
              "      <th>Year</th>\n",
              "      <th>ID</th>\n",
              "      <th>Name</th>\n",
              "      <th>State</th>\n",
              "      <th>County</th>\n",
              "      <th>Status</th>\n",
              "      <th>Type</th>\n",
              "      <th>Company Type</th>\n",
              "      <th>Production</th>\n",
              "      <th>Average Employees</th>\n",
              "      <th>Labor_Hours</th>\n",
              "      <th>date</th>\n",
              "    </tr>\n",
              "  </thead>\n",
              "  <tbody>\n",
              "    <tr>\n",
              "      <th>48</th>\n",
              "      <td>2013</td>\n",
              "      <td>5000030</td>\n",
              "      <td>Usibelli</td>\n",
              "      <td>Alaska</td>\n",
              "      <td>Fairbanks North Star</td>\n",
              "      <td>Active</td>\n",
              "      <td>Surface</td>\n",
              "      <td>Indepedent Producer Operator</td>\n",
              "      <td>1631584</td>\n",
              "      <td>125</td>\n",
              "      <td>286079</td>\n",
              "      <td>2002-08-17</td>\n",
              "    </tr>\n",
              "    <tr>\n",
              "      <th>1420</th>\n",
              "      <td>2013</td>\n",
              "      <td>4801646</td>\n",
              "      <td>Bridger Underground Coal Mine</td>\n",
              "      <td>Wyoming</td>\n",
              "      <td>Sweetwater</td>\n",
              "      <td>Active</td>\n",
              "      <td>Underground</td>\n",
              "      <td>Operating Subsidiary</td>\n",
              "      <td>4442616</td>\n",
              "      <td>278</td>\n",
              "      <td>661265</td>\n",
              "      <td>2003-06-17</td>\n",
              "    </tr>\n",
              "    <tr>\n",
              "      <th>61</th>\n",
              "      <td>2013</td>\n",
              "      <td>4801645</td>\n",
              "      <td>Addcar System 18 Hwm Serial No</td>\n",
              "      <td>Colorado</td>\n",
              "      <td>Rio Blanco</td>\n",
              "      <td>Active</td>\n",
              "      <td>Surface</td>\n",
              "      <td>Indepedent Producer Operator</td>\n",
              "      <td>350060</td>\n",
              "      <td>17</td>\n",
              "      <td>35687</td>\n",
              "      <td>2001-01-13</td>\n",
              "    </tr>\n",
              "    <tr>\n",
              "      <th>1414</th>\n",
              "      <td>2013</td>\n",
              "      <td>4801429</td>\n",
              "      <td>Dry Fork Mine</td>\n",
              "      <td>Wyoming</td>\n",
              "      <td>Campbell</td>\n",
              "      <td>Active</td>\n",
              "      <td>Surface</td>\n",
              "      <td>Operating Subsidiary</td>\n",
              "      <td>5433936</td>\n",
              "      <td>78</td>\n",
              "      <td>161270</td>\n",
              "      <td>2007-12-07</td>\n",
              "    </tr>\n",
              "    <tr>\n",
              "      <th>1413</th>\n",
              "      <td>2013</td>\n",
              "      <td>4801353</td>\n",
              "      <td>North Antelope Rochelle Mine</td>\n",
              "      <td>Wyoming</td>\n",
              "      <td>Campbell</td>\n",
              "      <td>Active</td>\n",
              "      <td>Surface</td>\n",
              "      <td>Operating Subsidiary</td>\n",
              "      <td>111005549</td>\n",
              "      <td>1349</td>\n",
              "      <td>2811138</td>\n",
              "      <td>2006-03-07</td>\n",
              "    </tr>\n",
              "    <tr>\n",
              "      <th>...</th>\n",
              "      <td>...</td>\n",
              "      <td>...</td>\n",
              "      <td>...</td>\n",
              "      <td>...</td>\n",
              "      <td>...</td>\n",
              "      <td>...</td>\n",
              "      <td>...</td>\n",
              "      <td>...</td>\n",
              "      <td>...</td>\n",
              "      <td>...</td>\n",
              "      <td>...</td>\n",
              "      <td>...</td>\n",
              "    </tr>\n",
              "    <tr>\n",
              "      <th>7</th>\n",
              "      <td>2013</td>\n",
              "      <td>100851</td>\n",
              "      <td>Oak Grove Mine</td>\n",
              "      <td>Alabama</td>\n",
              "      <td>Jefferson</td>\n",
              "      <td>Active</td>\n",
              "      <td>Underground</td>\n",
              "      <td>Operating Subsidiary</td>\n",
              "      <td>2269014</td>\n",
              "      <td>447</td>\n",
              "      <td>1001809</td>\n",
              "      <td>2007-02-07</td>\n",
              "    </tr>\n",
              "    <tr>\n",
              "      <th>2</th>\n",
              "      <td>2013</td>\n",
              "      <td>100759</td>\n",
              "      <td>North River #1 Underground Min</td>\n",
              "      <td>Alabama</td>\n",
              "      <td>Fayette</td>\n",
              "      <td>Active, men working, not producing</td>\n",
              "      <td>Underground</td>\n",
              "      <td>Indepedent Producer Operator</td>\n",
              "      <td>1440115</td>\n",
              "      <td>183</td>\n",
              "      <td>474784</td>\n",
              "      <td>2001-01-13</td>\n",
              "    </tr>\n",
              "    <tr>\n",
              "      <th>1441</th>\n",
              "      <td>2013</td>\n",
              "      <td>100515</td>\n",
              "      <td>Mary Lee # 1 Mine</td>\n",
              "      <td>Refuse Recovery</td>\n",
              "      <td>Walker</td>\n",
              "      <td>Active, men working, not producing</td>\n",
              "      <td>Refuse</td>\n",
              "      <td>Indepedent Producer Operator</td>\n",
              "      <td>8400</td>\n",
              "      <td>4</td>\n",
              "      <td>6240</td>\n",
              "      <td>2001-01-13</td>\n",
              "    </tr>\n",
              "    <tr>\n",
              "      <th>32</th>\n",
              "      <td>2013</td>\n",
              "      <td>100347</td>\n",
              "      <td>Choctaw Mine</td>\n",
              "      <td>Alabama</td>\n",
              "      <td>Walker</td>\n",
              "      <td>Active</td>\n",
              "      <td>Surface</td>\n",
              "      <td>Indepedent Producer Operator</td>\n",
              "      <td>537429</td>\n",
              "      <td>82</td>\n",
              "      <td>215295</td>\n",
              "      <td>2006-03-07</td>\n",
              "    </tr>\n",
              "    <tr>\n",
              "      <th>6</th>\n",
              "      <td>2013</td>\n",
              "      <td>100329</td>\n",
              "      <td>Concord Mine</td>\n",
              "      <td>Alabama</td>\n",
              "      <td>Jefferson</td>\n",
              "      <td>Active</td>\n",
              "      <td>Underground</td>\n",
              "      <td>Operating Subsidiary</td>\n",
              "      <td>0</td>\n",
              "      <td>59</td>\n",
              "      <td>144002</td>\n",
              "      <td>2006-02-05</td>\n",
              "    </tr>\n",
              "  </tbody>\n",
              "</table>\n",
              "<p>1450 rows × 12 columns</p>\n",
              "</div>"
            ],
            "text/plain": [
              "      Year       ID  ... Labor_Hours       date\n",
              "48    2013  5000030  ...      286079 2002-08-17\n",
              "1420  2013  4801646  ...      661265 2003-06-17\n",
              "61    2013  4801645  ...       35687 2001-01-13\n",
              "1414  2013  4801429  ...      161270 2007-12-07\n",
              "1413  2013  4801353  ...     2811138 2006-03-07\n",
              "...    ...      ...  ...         ...        ...\n",
              "7     2013   100851  ...     1001809 2007-02-07\n",
              "2     2013   100759  ...      474784 2001-01-13\n",
              "1441  2013   100515  ...        6240 2001-01-13\n",
              "32    2013   100347  ...      215295 2006-03-07\n",
              "6     2013   100329  ...      144002 2006-02-05\n",
              "\n",
              "[1450 rows x 12 columns]"
            ]
          },
          "metadata": {
            "tags": []
          },
          "execution_count": 80
        }
      ]
    },
    {
      "cell_type": "markdown",
      "metadata": {
        "id": "wa2J_n1V_YGU"
      },
      "source": [
        "17) Triplicamos el excel."
      ]
    },
    {
      "cell_type": "code",
      "metadata": {
        "id": "MLlKhBJF-kvT"
      },
      "source": [
        "df = pd.read_excel('base_tarea.xls')\n",
        "dfi= pd.read_excel('base_tarea.xls')\n",
        "dfii= pd.read_excel('base_tarea.xls')\n",
        "DF = pd.concat([df, dfi,dfii])"
      ],
      "execution_count": 73,
      "outputs": []
    },
    {
      "cell_type": "markdown",
      "metadata": {
        "id": "89_WgMt4E0Is"
      },
      "source": [
        "18) Graficamos comparando la producción, las horas trabajadas y el ID"
      ]
    },
    {
      "cell_type": "code",
      "metadata": {
        "colab": {
          "base_uri": "https://localhost:8080/",
          "height": 290
        },
        "id": "Sjj8JYNS_jIm",
        "outputId": "6549e3a1-332a-478a-cbee-3dd3351ce07a"
      },
      "source": [
        "import matplotlib.pyplot as plt\n",
        "df.head(10).plot(y=[\"Production\", \"Labor_Hours\", \"ID\"], kind=\"bar\")"
      ],
      "execution_count": 87,
      "outputs": [
        {
          "output_type": "execute_result",
          "data": {
            "text/plain": [
              "<matplotlib.axes._subplots.AxesSubplot at 0x7feb6980f7d0>"
            ]
          },
          "metadata": {
            "tags": []
          },
          "execution_count": 87
        },
        {
          "output_type": "display_data",
          "data": {
            "image/png": "[encoded data removed]",
            "text/plain": [
              "<Figure size 432x288 with 1 Axes>"
            ]
          },
          "metadata": {
            "tags": [],
            "needs_background": "light"
          }
        }
      ]
    },
    {
      "cell_type": "markdown",
      "metadata": {
        "id": "W1U74r6IHA2W"
      },
      "source": [
        "19) Graficamos para el top 10 de empresas en producción."
      ]
    },
    {
      "cell_type": "code",
      "metadata": {
        "colab": {
          "base_uri": "https://localhost:8080/",
          "height": 278
        },
        "id": "lV5D7z7SE62a",
        "outputId": "4ed9be92-0255-4df8-91ae-786a5b7844e3"
      },
      "source": [
        "production_10 = df.sort_values(['Production'], ascending=False).head(10)\n",
        "production_10['Production'].head(10).plot(kind=\"barh\")\n",
        "plt.show()"
      ],
      "execution_count": 86,
      "outputs": [
        {
          "output_type": "display_data",
          "data": {
            "image/png": "[encoded data removed]",
            "text/plain": [
              "<Figure size 432x288 with 1 Axes>"
            ]
          },
          "metadata": {
            "tags": [],
            "needs_background": "light"
          }
        }
      ]
    }
  ]
}